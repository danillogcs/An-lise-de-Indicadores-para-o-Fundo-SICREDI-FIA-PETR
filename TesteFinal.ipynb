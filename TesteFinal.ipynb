{
 "cells": [
  {
   "cell_type": "markdown",
   "metadata": {},
   "source": [
    "# CSV"
   ]
  },
  {
   "cell_type": "code",
   "execution_count": null,
   "metadata": {},
   "outputs": [],
   "source": [
    "'''\n",
    "import pandas as pd\n",
    "\n",
    "#dados Selic\n",
    "\n",
    "codigo_serie = '11'\n",
    "data_inicio_selic = '04/01/2021'\n",
    "data_fim_selic = '30/09/2024'\n",
    "\n",
    "url_selic = f'https://api.bcb.gov.br/dados/serie/bcdata.sgs.{codigo_serie}/dados?formato=csv&dataInicial={data_inicio_selic}&dataFinal={data_fim_selic}'\n",
    "\n",
    "dados_selic = pd.read_csv(url_selic, sep=';', encoding='ISO-8859-1')\n",
    "\n",
    "dados_selic = dados_selic.rename(columns={'valor': 'selic_ao_dia'})\n",
    "\n",
    "dados_selic.set_index('data', inplace=True)\n",
    "\n",
    "dados_selic.index = pd.to_datetime(pd.to_datetime(dados_selic.index,  format='mixed').date)\n",
    "\n",
    "Dados_Selic_CSV = dados_selic.to_csv('Dados_Selic_CSV.csv')\n",
    "\n",
    "'''"
   ]
  },
  {
   "cell_type": "code",
   "execution_count": null,
   "metadata": {},
   "outputs": [],
   "source": [
    "'''# Gerar CSV atualizado com dados da CVM Sicredi Fia Petr\n",
    "\n",
    "# dataframe com variação diária\n",
    "import pandas as pd\n",
    "import zipfile \n",
    "import requests\n",
    "\n",
    "pd.options.display.float_format = '{:4f}'.format #para melhor visualização dos dados (casas decimais muito grandes)\n",
    "\n",
    "# jan/21 até ago/24\n",
    "anos = range(2021, 2025)  \n",
    "meses = range(1, 13)  \n",
    "\n",
    "anos_meses = [(ano, f\"{mes:02d}\") for ano in anos for mes in meses if (ano == 2024 and mes <= 9) or (ano < 2024)]\n",
    "\n",
    "# Usar Nome associado ao CNPJ:\n",
    "\n",
    "cadastro_fundos = pd.read_csv('https://dados.cvm.gov.br/dados/FI/CAD/DADOS/cad_fi.csv',\n",
    "                              sep = ';',\n",
    "                              encoding = 'ISO-8859-1')\n",
    "\n",
    "cadastro_fundos = cadastro_fundos[['CNPJ_FUNDO', 'DENOM_SOCIAL']]\n",
    "\n",
    "cadastro_fundos = cadastro_fundos.drop_duplicates()\n",
    "\n",
    "base_dados2 = pd.DataFrame()  # DF vazio \n",
    "\n",
    "for ano, mes in anos_meses:\n",
    "\n",
    "    url = f\"https://dados.cvm.gov.br/dados/FI/DOC/INF_DIARIO/DADOS/inf_diario_fi_{ano}{mes}.zip\"\n",
    "\n",
    "    paginaweb = requests.get(url)\n",
    "\n",
    "    with open(f\"inf_diario_fi_{ano}{mes}.zip\", 'wb') as arquivo_cvm:\n",
    "\n",
    "        arquivo_cvm.write(paginaweb.content)\n",
    "\n",
    "    arquivo_zip = zipfile.ZipFile(f\"inf_diario_fi_{ano}{mes}.zip\")\n",
    "\n",
    "    dados_fundos = pd.read_csv(arquivo_zip.open(arquivo_zip.namelist()[0]), sep=';',    )\n",
    "\n",
    "    # processar dados ordenados cronologicamente\n",
    "    dados_fundos['DT_COMPTC'].sort_values(ascending=True)\n",
    "\n",
    "    dados_fundos = pd.merge(dados_fundos, cadastro_fundos, how=\"left\", left_on=\"CNPJ_FUNDO\", right_on=\"CNPJ_FUNDO\")\n",
    "\n",
    "    dados_fundos = dados_fundos[['CNPJ_FUNDO', 'DENOM_SOCIAL', 'DT_COMPTC', 'VL_QUOTA', 'VL_PATRIM_LIQ', 'NR_COTST']]\n",
    "\n",
    "    # fundo SICREDI\n",
    "    fundo_sicredi_petr = dados_fundos[dados_fundos['CNPJ_FUNDO'].str.contains('08.336.054/0001-34', na=False)]\n",
    "\n",
    "    # Concatenando dados em um dataframe (base de dados)\n",
    "    base_dados2 = pd.concat([base_dados2, fundo_sicredi_petr], ignore_index=True)\n",
    "\n",
    "base_dados2.to_csv('Dados_Inicio_Fim_Dia_SICREDIPETR.csv', index=False)'''"
   ]
  },
  {
   "cell_type": "code",
   "execution_count": null,
   "metadata": {},
   "outputs": [],
   "source": [
    "#dados do fundo SICREDI FIA PETROBRAS\n",
    "\n",
    "import pandas as pd\n",
    "\n",
    "dados_bruto_diario = pd.read_csv('Dados_Inicio_Fim_Dia_SICREDIPETR.csv')\n",
    "\n",
    "dados_sicredi_cru = dados_bruto_diario[['DT_COMPTC', 'VL_QUOTA']]\n",
    "\n",
    "dados_sicredi_cru['DT_COMPTC'] = pd.to_datetime(dados_sicredi_cru['DT_COMPTC'])"
   ]
  },
  {
   "cell_type": "markdown",
   "metadata": {},
   "source": [
    "# Teste"
   ]
  },
  {
   "cell_type": "code",
   "execution_count": 7,
   "metadata": {},
   "outputs": [],
   "source": [
    "import pandas as pd\n",
    "\n",
    "dados_selic = pd.read_csv(\"C:\\\\Users\\\\Guima\\\\Desktop\\\\Códigos IC\\\\Dados_Selic_CSV.csv\", decimal=',')\n",
    "\n",
    "# Tratar dados - Data e Valor de str para float\n",
    "\n",
    "dados_selic['selic_ao_dia'] = pd.to_numeric(dados_selic['selic_ao_dia'])\n",
    "\n",
    "dados_selic.columns = ['Data'] + list(dados_selic.columns[1:])\n",
    "'''''\n",
    "from datetime import datetime\n",
    "\n",
    "# Exemplo de DataFrame\n",
    "\n",
    "def corrigir_data(data_str):\n",
    "    try:\n",
    "        # Tentar converter usando o formato %Y%d%m\n",
    "        return datetime.strptime(data_str, \"%Y%d%m\").strftime(\"%Y-%m-%d\")\n",
    "    except ValueError:\n",
    "        try:\n",
    "            # Se falhar, verificar se está no formato padrão\n",
    "            return pd.to_datetime(data_str).strftime(\"%Y-%m-%d\")\n",
    "        except:\n",
    "            return data_str  # Retorna o valor original se não for possível converter\n",
    "\n",
    "# Aplicar a função de correção ao DataFrame\n",
    "dados_selic['Data_c'] = dados_selic['Data'].apply(corrigir_data)\n",
    "\n",
    "'''\n",
    "\n",
    "dados_selic['Data'] = dados_sicredi_cru['DT_COMPTC']"
   ]
  },
  {
   "cell_type": "markdown",
   "metadata": {},
   "source": [
    "## DataFrame base - dados_sicredi\n"
   ]
  },
  {
   "cell_type": "code",
   "execution_count": 8,
   "metadata": {},
   "outputs": [],
   "source": [
    "import pandas as pd\n",
    "import numpy as np\n",
    "\n",
    "# retornos diários \n",
    "dados_sicredi = dados_sicredi_cru[['DT_COMPTC', 'VL_QUOTA']]\n",
    "\n",
    "dados_sicredi['Retornos_Diarios'] = dados_sicredi_cru['VL_QUOTA'].pct_change()\n",
    "\n",
    "dados_sicredi = dados_sicredi[['DT_COMPTC', 'VL_QUOTA', 'Retornos_Diarios']]\n",
    "\n",
    "dados_sicredi['Retornos_Diarios(%)'] = dados_sicredi['Retornos_Diarios']*100\n",
    "\n",
    "dados_sicredi = dados_sicredi[['DT_COMPTC', 'VL_QUOTA', 'Retornos_Diarios(%)']]\n",
    "\n",
    "# volatilidade\n",
    "\n",
    "dados_sicredi['Volatilidade_Dia(%)'] = ((dados_sicredi['Retornos_Diarios(%)'].rolling(window=22)).std())*np.sqrt(252)\n",
    "\n",
    "dados_sicredi = dados_sicredi[['DT_COMPTC', 'VL_QUOTA', 'Retornos_Diarios(%)', 'Volatilidade_Dia(%)']]"
   ]
  },
  {
   "cell_type": "markdown",
   "metadata": {},
   "source": [
    "## Gráficos da Volatilidade, Retorno e Retorno Selic"
   ]
  },
  {
   "cell_type": "code",
   "execution_count": null,
   "metadata": {},
   "outputs": [],
   "source": [
    "# gráfico volatilidade\n",
    "\n",
    "import plotly.express as px\n",
    "\n",
    "dados_sicredi_cru['DT_COMPTC'] = pd.to_datetime(dados_sicredi_cru['DT_COMPTC'])\n",
    "\n",
    "dados_sicredi['DT_COMPTC'] = pd.to_datetime(dados_sicredi['DT_COMPTC'])\n",
    "\n",
    "graph_vol = px.line(dados_sicredi, x='DT_COMPTC', y='Volatilidade_Dia(%)')\n",
    "\n",
    "graph_vol.show()"
   ]
  },
  {
   "cell_type": "code",
   "execution_count": null,
   "metadata": {},
   "outputs": [],
   "source": [
    "# gráfico retorno x selic\n",
    "\n",
    "import plotly.express as px\n",
    "import plotly.graph_objects as go\n",
    "\n",
    "dados_sicredi['DT_COMPTC'] = pd.to_datetime(dados_sicredi['DT_COMPTC'])\n",
    "\n",
    "graph_return = px.line(dados_sicredi, x='DT_COMPTC', y='Retornos_Diarios(%)')\n",
    "\n",
    "graph_selic =  px.line(dados_selic, x=dados_sicredi['DT_COMPTC'], y='selic_ao_dia')\n",
    "\n",
    "graph_return.show()\n",
    "graph_selic.show()"
   ]
  },
  {
   "cell_type": "markdown",
   "metadata": {},
   "source": [
    "## Ajustes + ln returns + Sharpe Diario"
   ]
  },
  {
   "cell_type": "code",
   "execution_count": 11,
   "metadata": {},
   "outputs": [],
   "source": [
    "# Datas como Índice\n",
    "\n",
    "dados_sicredi_cru.set_index('DT_COMPTC', inplace=True)\n",
    "dados_sicredi.set_index('DT_COMPTC', inplace=True)"
   ]
  },
  {
   "cell_type": "code",
   "execution_count": null,
   "metadata": {},
   "outputs": [],
   "source": [
    "# LN dos valores das cotas\n",
    "\n",
    "dados_sicredi['ln_quotas'] = np.log(dados_sicredi['VL_QUOTA'])\n",
    "\n",
    "# retornos com o log \n",
    "\n",
    "dados_sicredi['retorno_log(%)'] = np.log(dados_sicredi['VL_QUOTA']/dados_sicredi['VL_QUOTA'].shift(1))*100\n",
    "\n",
    "dados_sicredi = dados_sicredi[['VL_QUOTA','ln_quotas','Retornos_Diarios(%)','Volatilidade_Dia(%)','retorno_log(%)']]\n",
    "\n",
    "# inserir selic\n",
    "\n",
    "combinado1 = pd.merge(dados_sicredi,dados_selic,how='outer',left_index=True,right_on='Data')\n",
    "\n",
    "combinado1.set_index('Data',inplace=True)\n",
    "\n",
    "combinado1"
   ]
  },
  {
   "cell_type": "code",
   "execution_count": 13,
   "metadata": {},
   "outputs": [],
   "source": [
    "# Sharpe / Dia\n",
    "\n",
    "combinado1['Sharpe/Dia'] = (combinado1['Retornos_Diarios(%)']-combinado1['selic_ao_dia'])/combinado1['Volatilidade_Dia(%)']\n",
    "combinado1 = combinado1[['selic_ao_dia','VL_QUOTA', 'ln_quotas', 'Retornos_Diarios(%)', 'retorno_log(%)','Volatilidade_Dia(%)', 'Sharpe/Dia']]\n"
   ]
  },
  {
   "cell_type": "markdown",
   "metadata": {},
   "source": [
    "## Janelas de Tempo para ano, 1 mês, 3 meses, 6 meses, 12 meses, 24 meses"
   ]
  },
  {
   "cell_type": "markdown",
   "metadata": {},
   "source": [
    "### Retornos nas Janelas de Tempo"
   ]
  },
  {
   "cell_type": "code",
   "execution_count": 14,
   "metadata": {},
   "outputs": [],
   "source": [
    "# Definir as datas de corte para cada janela de tempo\n",
    "date_24M = combinado1.index[-1] - pd.DateOffset(months=24)\n",
    "date_12M = combinado1.index[-1] - pd.DateOffset(months=12)\n",
    "date_6M = combinado1.index[-1] - pd.DateOffset(months=6)\n",
    "date_3M = combinado1.index[-1] - pd.DateOffset(months=3)\n",
    "date_1M = combinado1.index[-1] - pd.DateOffset(months=1)\n",
    "\n",
    "# Filtrar os dados por janela de tempo\n",
    "dados_sicredi_24M = combinado1.loc[date_24M:]\n",
    "dados_sicredi_12M = combinado1.loc[date_12M:]\n",
    "dados_sicredi_6M = combinado1.loc[date_6M:]\n",
    "dados_sicredi_3M = combinado1.loc[date_3M:]\n",
    "dados_sicredi_1M = combinado1.loc[date_1M:]"
   ]
  },
  {
   "cell_type": "markdown",
   "metadata": {},
   "source": [
    "##### 1M"
   ]
  },
  {
   "cell_type": "code",
   "execution_count": null,
   "metadata": {},
   "outputs": [],
   "source": [
    "combinado1['Retorno_1M(%)'] = combinado1['VL_QUOTA'].pct_change(periods=21)*100 # 21 dias / mês"
   ]
  },
  {
   "cell_type": "markdown",
   "metadata": {},
   "source": [
    "##### 3M"
   ]
  },
  {
   "cell_type": "code",
   "execution_count": null,
   "metadata": {},
   "outputs": [],
   "source": [
    "combinado1['Retorno_3M(%)'] = combinado1['VL_QUOTA'].pct_change(periods=65)*100 # 65 dias / 03 meses"
   ]
  },
  {
   "cell_type": "markdown",
   "metadata": {},
   "source": [
    "##### 6M"
   ]
  },
  {
   "cell_type": "code",
   "execution_count": null,
   "metadata": {},
   "outputs": [],
   "source": [
    "combinado1['Retorno_6M(%)'] = combinado1['VL_QUOTA'].pct_change(periods=123)*100 # 123 dias / 06 meses"
   ]
  },
  {
   "cell_type": "markdown",
   "metadata": {},
   "source": [
    "##### 12M"
   ]
  },
  {
   "cell_type": "code",
   "execution_count": null,
   "metadata": {},
   "outputs": [],
   "source": [
    "combinado1['Retorno_12M(%)'] = combinado1['VL_QUOTA'].pct_change(periods=252)*100 # 252 dias / 12 meses"
   ]
  },
  {
   "cell_type": "markdown",
   "metadata": {},
   "source": [
    "##### 24M"
   ]
  },
  {
   "cell_type": "code",
   "execution_count": null,
   "metadata": {},
   "outputs": [],
   "source": [
    "combinado1['Retorno_24M(%)'] = combinado1['VL_QUOTA'].pct_change(periods=503)*100 # 503 dias / 24 meses"
   ]
  },
  {
   "cell_type": "markdown",
   "metadata": {},
   "source": [
    "##### 36M"
   ]
  },
  {
   "cell_type": "code",
   "execution_count": null,
   "metadata": {},
   "outputs": [],
   "source": [
    "combinado1['Retorno_36M(%)'] = combinado1['VL_QUOTA'].pct_change(periods=752)*100 # 752 dias / 36 meses"
   ]
  },
  {
   "cell_type": "markdown",
   "metadata": {},
   "source": [
    "##### ao ano"
   ]
  },
  {
   "cell_type": "code",
   "execution_count": null,
   "metadata": {},
   "outputs": [],
   "source": [
    "# retorno 1 ano\n",
    "\n",
    "sicredi_retornoAD_anual = combinado1.resample('YE').last()\n",
    "\n",
    "sicredi_retornoAD_anual['Retornos_Ano(%)'] = sicredi_retornoAD_anual['VL_QUOTA'].pct_change(periods=1)*100\n",
    "\n",
    "sicredi_retornoAD_anual\n"
   ]
  },
  {
   "cell_type": "markdown",
   "metadata": {},
   "source": [
    "#### Tentativa de usar Janelas de tempo"
   ]
  },
  {
   "cell_type": "code",
   "execution_count": 23,
   "metadata": {},
   "outputs": [],
   "source": [
    "# retorno mensal (1Mês)\n",
    "\n",
    "#sicredi_retornoAD_mensal = combinado1.resample('ME').last()\n",
    "\n",
    "#sicredi_retornoAD_mensal['Retorno_Mensal(%)'] = sicredi_retornoAD_mensal['VL_QUOTA'].pct_change(periods=1)*100\n",
    "\n",
    "#sicredi_retornoAD_mensal\n"
   ]
  },
  {
   "cell_type": "markdown",
   "metadata": {},
   "source": [
    "##### 3M"
   ]
  },
  {
   "cell_type": "code",
   "execution_count": 24,
   "metadata": {},
   "outputs": [],
   "source": [
    "# retorno 3 meses\n",
    "\n",
    "#sicredi_retornoAD_3mes = combinado1.resample('ME').last()\n",
    "\n",
    "#sicredi_retornoAD_3mes['Retorno_3M(%)'] = sicredi_retornoAD_3mes['VL_QUOTA'].pct_change(periods=3)*100\n",
    "\n",
    "#sicredi_retornoAD_3mes"
   ]
  },
  {
   "cell_type": "markdown",
   "metadata": {},
   "source": [
    "##### 6M"
   ]
  },
  {
   "cell_type": "code",
   "execution_count": 25,
   "metadata": {},
   "outputs": [],
   "source": [
    "# retorno 6 meses\n",
    "\n",
    "#sicredi_retornoAD_6mes = combinado1.resample('ME').last()\n",
    "\n",
    "#sicredi_retornoAD_6mes['Retorno_6M(%)'] = sicredi_retornoAD_6mes['VL_QUOTA'].pct_change(periods=6)*100\n",
    "\n",
    "#sicredi_retornoAD_6mes"
   ]
  },
  {
   "cell_type": "markdown",
   "metadata": {},
   "source": [
    "##### 12M"
   ]
  },
  {
   "cell_type": "code",
   "execution_count": 26,
   "metadata": {},
   "outputs": [],
   "source": [
    "# retorno 12 meses\n",
    "\n",
    "#sicredi_retornoAD_12mes = combinado1.resample('ME').last()\n",
    "\n",
    "#sicredi_retornoAD_12mes['Retorno_12M(%)'] = sicredi_retornoAD_12mes['VL_QUOTA'].pct_change(periods=12)*100\n",
    "\n",
    "#sicredi_retornoAD_12mes"
   ]
  },
  {
   "cell_type": "markdown",
   "metadata": {},
   "source": [
    "##### 24M"
   ]
  },
  {
   "cell_type": "code",
   "execution_count": 27,
   "metadata": {},
   "outputs": [],
   "source": [
    "# retorno 24 meses\n",
    "\n",
    "#sicredi_retornoAD_24mes = combinado1.resample('ME').last()\n",
    "\n",
    "#sicredi_retornoAD_24mes['Retorno_24M(%)'] = sicredi_retornoAD_24mes['VL_QUOTA'].pct_change(periods=24)*100\n",
    "\n",
    "#sicredi_retornoAD_24mes"
   ]
  },
  {
   "cell_type": "code",
   "execution_count": 28,
   "metadata": {},
   "outputs": [],
   "source": [
    "# retorno 12 meses\n",
    "\n",
    "#sicredi_retornoAD_36mes = combinado1.resample('ME').last()\n",
    "\n",
    "#sicredi_retornoAD_36mes['Retorno_36M(%)'] = sicredi_retornoAD_36mes['VL_QUOTA'].pct_change(periods=36)*100\n",
    "\n",
    "#sicredi_retornoAD_36mes"
   ]
  },
  {
   "cell_type": "markdown",
   "metadata": {},
   "source": [
    "### Volatilidade nas janelas de tempo"
   ]
  },
  {
   "cell_type": "markdown",
   "metadata": {},
   "source": [
    "##### Volatilidade ao mês"
   ]
  },
  {
   "cell_type": "code",
   "execution_count": null,
   "metadata": {},
   "outputs": [],
   "source": [
    "combinado1['Volatilidade_Mensal(%)'] = ((combinado1['Retornos_Diarios(%)'].rolling(window=21)).std())*np.sqrt(252)"
   ]
  },
  {
   "cell_type": "markdown",
   "metadata": {},
   "source": [
    "##### Volatilidade 12 Meses"
   ]
  },
  {
   "cell_type": "code",
   "execution_count": null,
   "metadata": {},
   "outputs": [],
   "source": [
    "combinado1['Volatilidade_12M(%)'] = ((combinado1['Retornos_Diarios(%)'].rolling(window=252)).std())*np.sqrt(252)"
   ]
  },
  {
   "cell_type": "markdown",
   "metadata": {},
   "source": [
    "##### Volatilidade 24 Meses"
   ]
  },
  {
   "cell_type": "code",
   "execution_count": null,
   "metadata": {},
   "outputs": [],
   "source": [
    "combinado1['Volatilidade_24M(%)'] = ((combinado1['Retornos_Diarios(%)'].rolling(window=503)).std())*np.sqrt(252)"
   ]
  },
  {
   "cell_type": "markdown",
   "metadata": {},
   "source": [
    "##### Volatilidade 36 Meses"
   ]
  },
  {
   "cell_type": "code",
   "execution_count": null,
   "metadata": {},
   "outputs": [],
   "source": [
    "combinado1['Volatilidade_36M(%)'] = ((combinado1['Retornos_Diarios(%)'].rolling(window=752)).std())*np.sqrt(252)"
   ]
  },
  {
   "cell_type": "markdown",
   "metadata": {},
   "source": [
    "##### Volatilidade ao Ano!!!!!!!!!!!!!"
   ]
  },
  {
   "cell_type": "code",
   "execution_count": 33,
   "metadata": {},
   "outputs": [],
   "source": [
    "sicredi_retornoAD_anual['Volatilidade_Ano(%)'] = ((sicredi_retornoAD_anual['Retornos_Ano(%)'].rolling(window=2)).std())*np.sqrt(252)"
   ]
  },
  {
   "cell_type": "markdown",
   "metadata": {},
   "source": [
    "### Indice Sharpe nas Janelas de tempo calculadas"
   ]
  },
  {
   "cell_type": "code",
   "execution_count": null,
   "metadata": {},
   "outputs": [],
   "source": [
    "# Selic para diferentes períodos\n",
    "\n",
    "#combinado1['selic_ao_mes'] = ((1 + combinado1['selic_ao_dia']/100)**21 - 1)*100\n",
    "#combinado1['selic_12M'] = ((1+combinado1['selic_ao_dia']/100)**252 - 1)*100\n",
    "\n",
    "combinado1['selic_ao_mes'] = (combinado1['selic_ao_dia'].rolling(21)).sum()\n",
    "\n",
    "combinado1['selic_12M'] = (combinado1['selic_ao_dia'].rolling(252)).sum()"
   ]
  },
  {
   "cell_type": "code",
   "execution_count": null,
   "metadata": {},
   "outputs": [],
   "source": [
    "combinado1.tail(252)"
   ]
  },
  {
   "cell_type": "code",
   "execution_count": null,
   "metadata": {},
   "outputs": [],
   "source": [
    "# IS para 1 mês\n",
    "\n",
    "combinado1['IS_1M'] = (combinado1['Retorno_1M(%)'] - combinado1['selic_ao_mes']) / combinado1['Volatilidade_Mensal(%)']"
   ]
  },
  {
   "cell_type": "code",
   "execution_count": null,
   "metadata": {},
   "outputs": [],
   "source": [
    "combinado1"
   ]
  },
  {
   "cell_type": "markdown",
   "metadata": {},
   "source": [
    "##### Tentativa de Gerar dias úteis no período especificado"
   ]
  },
  {
   "cell_type": "code",
   "execution_count": null,
   "metadata": {},
   "outputs": [],
   "source": [
    "'''import pandas as pd\n",
    "from pandas.tseries.holiday import AbstractHolidayCalendar, Holiday\n",
    "from pandas.tseries.offsets import CustomBusinessDay\n",
    "\n",
    "# Criação de um calendário com os principais feriados brasileiros\n",
    "class BrazilHolidayCalendar(AbstractHolidayCalendar):\n",
    "    rules = [\n",
    "        Holiday('Ano Novo', month=1, day=1),\n",
    "        Holiday('Carnaval', month=2, day=20),  # Exemplo para 2024\n",
    "        Holiday('Sexta-feira Santa', month=3, day=29),  # Exemplo para 2024\n",
    "        Holiday('Tiradentes', month=4, day=21),\n",
    "        Holiday('Dia do Trabalho', month=5, day=1),\n",
    "        Holiday('Corpus Christi', month=5, day=30),  # Exemplo para 2024\n",
    "        Holiday('Independência do Brasil', month=9, day=7),\n",
    "        Holiday('Nossa Senhora Aparecida', month=10, day=12),\n",
    "        Holiday('Finados', month=11, day=2),\n",
    "        Holiday('Proclamação da República', month=11, day=15),\n",
    "        Holiday('Natal', month=12, day=25),\n",
    "        # Adicione mais feriados locais/regionalizados aqui, se necessário\n",
    "    ]\n",
    "\n",
    "# Definindo um custom business day (dias úteis) com base no calendário de feriados brasileiros\n",
    "brazil_bd = CustomBusinessDay(calendar=BrazilHolidayCalendar())\n",
    "\n",
    "# Função para calcular o número de dias úteis em um período específico\n",
    "def calculate_business_days(start_date, end_date):\n",
    "    # Gera uma lista de dias úteis (exclui finais de semana e feriados automaticamente)\n",
    "    business_days = pd.date_range(start=start_date, end=end_date, freq=brazil_bd)\n",
    "    \n",
    "    return len(business_days)\n",
    "\n",
    "# Função principal para calcular dias úteis em diferentes períodos\n",
    "def calculate_business_days_for_periods():\n",
    "    periods = [1, 3, 6, 12, 24, 36, 48]  # Períodos em meses\n",
    "    end_date = pd.Timestamp.today()  # Data final como a data atual\n",
    "    results = {}\n",
    "\n",
    "    # Calcula o número de dias úteis para cada período\n",
    "    for months in periods:\n",
    "        # Data inicial (subtraindo o número de meses)\n",
    "        start_date = end_date - pd.DateOffset(months=months)\n",
    "        business_days_count = calculate_business_days(start_date, end_date)\n",
    "        results[f'{months}_months'] = business_days_count\n",
    "    \n",
    "    return results\n",
    "\n",
    "# Exemplo de uso: calcular e exibir os dias úteis para os períodos especificados\n",
    "business_days_results = calculate_business_days_for_periods()\n",
    "\n",
    "# Exibe o número de dias úteis em cada período\n",
    "for period, count in business_days_results.items():\n",
    "    print(f'Número de dias úteis em {period}: {count}')'''\n"
   ]
  }
 ],
 "metadata": {
  "kernelspec": {
   "display_name": "base",
   "language": "python",
   "name": "python3"
  },
  "language_info": {
   "codemirror_mode": {
    "name": "ipython",
    "version": 3
   },
   "file_extension": ".py",
   "mimetype": "text/x-python",
   "name": "python",
   "nbconvert_exporter": "python",
   "pygments_lexer": "ipython3",
   "version": "3.11.9"
  }
 },
 "nbformat": 4,
 "nbformat_minor": 2
}
